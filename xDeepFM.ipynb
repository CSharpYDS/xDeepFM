{
 "cells": [
  {
   "cell_type": "code",
   "execution_count": 1,
   "metadata": {
    "collapsed": true
   },
   "outputs": [],
   "source": [
    "import os\n",
    "import tensorflow as tf\n",
    "from tempfile import TemporaryDirectory\n",
    "from recommenders.utils.constants import SEED\n",
    "from recommenders.models.deeprec.deeprec_utils import prepare_hparams\n",
    "from recommenders.models.deeprec.models.xDeepFM import XDeepFMModel\n",
    "from recommenders.models.deeprec.io.iterator import FFMTextIterator\n",
    "tf.get_logger().setLevel('ERROR')"
   ]
  },
  {
   "cell_type": "code",
   "execution_count": 2,
   "outputs": [],
   "source": [
    "EPOCHS_FOR_SYNTHETIC_RUN = 15\n",
    "EPOCHS_FOR_CRITEO_RUN = 30\n",
    "BATCH_SIZE_SYNTHETIC = 128\n",
    "BATCH_SIZE_CRITEO = 4096\n",
    "RANDOM_SEED = SEED"
   ],
   "metadata": {
    "collapsed": false,
    "pycharm": {
     "name": "#%%\n"
    }
   }
  },
  {
   "cell_type": "code",
   "execution_count": 3,
   "outputs": [],
   "source": [
    "# tmpdir = TemporaryDirectory()\n",
    "# data_path = tmpdir.name\n",
    "data_path = os.path.join(os.getcwd(), 'xdeepfmresources')\n",
    "yaml_file = os.path.join(data_path, r'xDeepFM.yaml')\n",
    "train_file = os.path.join(data_path, r'synthetic_part_0')\n",
    "valid_file = os.path.join(data_path, r'synthetic_part_1')\n",
    "test_file = os.path.join(data_path, r'synthetic_part_2')\n",
    "output_file = os.path.join(data_path, r'output.txt')"
   ],
   "metadata": {
    "collapsed": false,
    "pycharm": {
     "name": "#%%\n"
    }
   }
  },
  {
   "cell_type": "code",
   "execution_count": 4,
   "outputs": [],
   "source": [
    "hparams = prepare_hparams(yaml_file,\n",
    "                          FEATURE_COUNT=1000,\n",
    "                          FIELD_COUNT=10,\n",
    "                          cross_l2=0.0001,\n",
    "                          embed_l2=0.0001,\n",
    "                          learning_rate=0.001,\n",
    "                          epochs=EPOCHS_FOR_SYNTHETIC_RUN,\n",
    "                          batch_size=BATCH_SIZE_SYNTHETIC)\n",
    "# print(hparams)"
   ],
   "metadata": {
    "collapsed": false,
    "pycharm": {
     "name": "#%%\n"
    }
   }
  },
  {
   "cell_type": "code",
   "execution_count": 5,
   "outputs": [],
   "source": [
    "input_creator = FFMTextIterator"
   ],
   "metadata": {
    "collapsed": false,
    "pycharm": {
     "name": "#%%\n"
    }
   }
  },
  {
   "cell_type": "code",
   "execution_count": 6,
   "outputs": [
    {
     "name": "stdout",
     "output_type": "stream",
     "text": [
      "Add CIN part.\n"
     ]
    },
    {
     "name": "stderr",
     "output_type": "stream",
     "text": [
      "D:\\Anaconda\\envs\\py3713\\lib\\site-packages\\tensorflow\\python\\framework\\indexed_slices.py:449: UserWarning: Converting sparse IndexedSlices(IndexedSlices(indices=Tensor(\"gradients/XDeepFM/embedding/embedding_lookup_sparse/GatherV2_grad/Reshape_1:0\", shape=(None,), dtype=int32), values=Tensor(\"gradients/XDeepFM/embedding/embedding_lookup_sparse/GatherV2_grad/Reshape:0\", shape=(None, 10), dtype=float32), dense_shape=Tensor(\"gradients/XDeepFM/embedding/embedding_lookup_sparse/GatherV2_grad/Cast:0\", shape=(2,), dtype=int32))) to a dense Tensor of unknown shape. This may consume a large amount of memory.\n",
      "  \"shape. This may consume a large amount of memory.\" % value)\n"
     ]
    }
   ],
   "source": [
    "model = XDeepFMModel(hparams, input_creator, seed=RANDOM_SEED)"
   ],
   "metadata": {
    "collapsed": false,
    "pycharm": {
     "name": "#%%\n"
    }
   }
  },
  {
   "cell_type": "code",
   "execution_count": 7,
   "outputs": [
    {
     "name": "stdout",
     "output_type": "stream",
     "text": [
      "{'auc': 0.5043, 'logloss': 0.7515}\n"
     ]
    }
   ],
   "source": [
    "# 模型训练前表现\n",
    "print(model.run_eval(test_file))"
   ],
   "metadata": {
    "collapsed": false,
    "pycharm": {
     "name": "#%%\n"
    }
   }
  },
  {
   "cell_type": "code",
   "execution_count": 8,
   "outputs": [
    {
     "name": "stdout",
     "output_type": "stream",
     "text": [
      "at epoch 1\n",
      "train info: logloss loss:0.755682612612485\n",
      "eval info: auc:0.504, logloss:0.7042\n",
      "at epoch 1 , train time: 4.5 eval time: 0.7\n",
      "at epoch 2\n",
      "train info: logloss loss:0.7263523229618662\n",
      "eval info: auc:0.5066, logloss:0.6973\n",
      "at epoch 2 , train time: 4.2 eval time: 0.7\n",
      "at epoch 3\n",
      "train info: logloss loss:0.7177084289055919\n",
      "eval info: auc:0.5099, logloss:0.6953\n",
      "at epoch 3 , train time: 4.1 eval time: 0.7\n",
      "at epoch 4\n",
      "train info: logloss loss:0.7118660174694258\n",
      "eval info: auc:0.5147, logloss:0.6946\n",
      "at epoch 4 , train time: 4.1 eval time: 0.7\n",
      "at epoch 5\n",
      "train info: logloss loss:0.7055103305688838\n",
      "eval info: auc:0.523, logloss:0.6941\n",
      "at epoch 5 , train time: 4.1 eval time: 0.7\n",
      "at epoch 6\n",
      "train info: logloss loss:0.6954095564347362\n",
      "eval info: auc:0.5416, logloss:0.6929\n",
      "at epoch 6 , train time: 4.1 eval time: 0.7\n",
      "at epoch 7\n",
      "train info: logloss loss:0.6723950161147363\n",
      "eval info: auc:0.5916, logloss:0.6831\n",
      "at epoch 7 , train time: 4.1 eval time: 0.7\n",
      "at epoch 8\n",
      "train info: logloss loss:0.6119807967820119\n",
      "eval info: auc:0.7024, logloss:0.6288\n",
      "at epoch 8 , train time: 4.1 eval time: 0.7\n",
      "at epoch 9\n",
      "train info: logloss loss:0.502027049199822\n",
      "eval info: auc:0.8154, logloss:0.5257\n",
      "at epoch 9 , train time: 4.1 eval time: 0.7\n",
      "at epoch 10\n",
      "train info: logloss loss:0.3899471969231707\n",
      "eval info: auc:0.8826, logloss:0.4315\n",
      "at epoch 10 , train time: 4.1 eval time: 0.7\n",
      "at epoch 11\n",
      "train info: logloss loss:0.3014452075425702\n",
      "eval info: auc:0.9205, logloss:0.3605\n",
      "at epoch 11 , train time: 4.1 eval time: 0.7\n",
      "at epoch 12\n",
      "train info: logloss loss:0.23429048409576678\n",
      "eval info: auc:0.9431, logloss:0.3082\n",
      "at epoch 12 , train time: 4.1 eval time: 0.7\n",
      "at epoch 13\n",
      "train info: logloss loss:0.1828396330072298\n",
      "eval info: auc:0.9577, logloss:0.2682\n",
      "at epoch 13 , train time: 4.1 eval time: 0.7\n",
      "at epoch 14\n",
      "train info: logloss loss:0.1428092515601735\n",
      "eval info: auc:0.9676, logloss:0.2369\n",
      "at epoch 14 , train time: 4.1 eval time: 0.7\n",
      "at epoch 15\n",
      "train info: logloss loss:0.11175787967351294\n",
      "eval info: auc:0.9745, logloss:0.2128\n",
      "at epoch 15 , train time: 4.1 eval time: 0.7\n"
     ]
    },
    {
     "data": {
      "text/plain": "<recommenders.models.deeprec.models.xDeepFM.XDeepFMModel at 0x27c05a77788>"
     },
     "execution_count": 8,
     "metadata": {},
     "output_type": "execute_result"
    }
   ],
   "source": [
    "model.fit(train_file, valid_file)"
   ],
   "metadata": {
    "collapsed": false,
    "pycharm": {
     "name": "#%%\n"
    }
   }
  },
  {
   "cell_type": "code",
   "execution_count": 9,
   "outputs": [
    {
     "name": "stdout",
     "output_type": "stream",
     "text": [
      "{'auc': 0.9716, 'logloss': 0.2278}\n"
     ]
    }
   ],
   "source": [
    "# 模型训练后表现\n",
    "res_syn = model.run_eval(test_file)\n",
    "print(res_syn)"
   ],
   "metadata": {
    "collapsed": false,
    "pycharm": {
     "name": "#%%\n"
    }
   }
  },
  {
   "cell_type": "code",
   "execution_count": 10,
   "outputs": [
    {
     "data": {
      "text/plain": "<recommenders.models.deeprec.models.xDeepFM.XDeepFMModel at 0x27c05a77788>"
     },
     "execution_count": 10,
     "metadata": {},
     "output_type": "execute_result"
    }
   ],
   "source": [
    "# 测试集测试并保存结果\n",
    "model.predict(test_file, output_file)"
   ],
   "metadata": {
    "collapsed": false,
    "pycharm": {
     "name": "#%%\n"
    }
   }
  },
  {
   "cell_type": "code",
   "execution_count": 11,
   "outputs": [],
   "source": [
    "# Criteo"
   ],
   "metadata": {
    "collapsed": false,
    "pycharm": {
     "name": "#%%\n"
    }
   }
  },
  {
   "cell_type": "code",
   "execution_count": 12,
   "outputs": [],
   "source": [
    "hparams = prepare_hparams(yaml_file,\n",
    "                          FEATURE_COUNT=2300000,\n",
    "                          FIELD_COUNT=39,\n",
    "                          cross_l2=0.01,\n",
    "                          embed_l2=0.01,\n",
    "                          layer_l2=0.01,\n",
    "                          learning_rate=0.002,\n",
    "                          batch_size=BATCH_SIZE_CRITEO,\n",
    "                          epochs=EPOCHS_FOR_CRITEO_RUN,\n",
    "                          cross_layer_sizes=[20, 10],\n",
    "                          init_value=0.1,\n",
    "                          layer_sizes=[20,20],\n",
    "                          use_Linear_part=True,\n",
    "                          use_CIN_part=True,\n",
    "                          use_DNN_part=True)"
   ],
   "metadata": {
    "collapsed": false,
    "pycharm": {
     "name": "#%%\n"
    }
   }
  },
  {
   "cell_type": "code",
   "execution_count": 13,
   "outputs": [],
   "source": [
    "train_file = os.path.join(data_path, r'cretio_tiny_train')\n",
    "valid_file = os.path.join(data_path, r'cretio_tiny_valid')\n",
    "test_file = os.path.join(data_path, r'cretio_tiny_test')"
   ],
   "metadata": {
    "collapsed": false,
    "pycharm": {
     "name": "#%%\n"
    }
   }
  },
  {
   "cell_type": "code",
   "execution_count": 14,
   "outputs": [
    {
     "name": "stdout",
     "output_type": "stream",
     "text": [
      "Add linear part.\n",
      "Add CIN part.\n",
      "Add DNN part.\n"
     ]
    },
    {
     "name": "stderr",
     "output_type": "stream",
     "text": [
      "D:\\Anaconda\\envs\\py3713\\lib\\site-packages\\tensorflow\\python\\framework\\indexed_slices.py:449: UserWarning: Converting sparse IndexedSlices(IndexedSlices(indices=Tensor(\"gradients/XDeepFM/embedding/embedding_lookup_sparse/GatherV2_grad/Reshape_1:0\", shape=(None,), dtype=int32), values=Tensor(\"gradients/XDeepFM/embedding/embedding_lookup_sparse/GatherV2_grad/Reshape:0\", shape=(None, 10), dtype=float32), dense_shape=Tensor(\"gradients/XDeepFM/embedding/embedding_lookup_sparse/GatherV2_grad/Cast:0\", shape=(2,), dtype=int32))) to a dense Tensor of unknown shape. This may consume a large amount of memory.\n",
      "  \"shape. This may consume a large amount of memory.\" % value)\n"
     ]
    }
   ],
   "source": [
    "model = XDeepFMModel(hparams, FFMTextIterator, seed=RANDOM_SEED)"
   ],
   "metadata": {
    "collapsed": false,
    "pycharm": {
     "name": "#%%\n"
    }
   }
  },
  {
   "cell_type": "code",
   "execution_count": 15,
   "outputs": [
    {
     "name": "stdout",
     "output_type": "stream",
     "text": [
      "{'auc': 0.4728, 'logloss': 0.7113}\n"
     ]
    }
   ],
   "source": [
    "# 模型训练前表现\n",
    "print(model.run_eval(test_file))"
   ],
   "metadata": {
    "collapsed": false,
    "pycharm": {
     "name": "#%%\n"
    }
   }
  },
  {
   "cell_type": "code",
   "execution_count": 16,
   "outputs": [
    {
     "name": "stdout",
     "output_type": "stream",
     "text": [
      "at epoch 1\n",
      "train info: logloss loss:744.360164642334\n",
      "eval info: auc:0.6637, logloss:0.5342\n",
      "at epoch 1 , train time: 29.8 eval time: 3.9\n",
      "at epoch 2\n",
      "train info: logloss loss:385.6692314147949\n",
      "eval info: auc:0.7137, logloss:0.5109\n",
      "at epoch 2 , train time: 26.8 eval time: 3.7\n",
      "at epoch 3\n",
      "train info: logloss loss:191.5082721710205\n",
      "eval info: auc:0.7283, logloss:0.5037\n",
      "at epoch 3 , train time: 26.8 eval time: 3.7\n",
      "at epoch 4\n",
      "train info: logloss loss:92.20771861076355\n",
      "eval info: auc:0.7359, logloss:0.4991\n",
      "at epoch 4 , train time: 26.9 eval time: 3.8\n",
      "at epoch 5\n",
      "train info: logloss loss:43.15944170951843\n",
      "eval info: auc:0.74, logloss:0.4963\n",
      "at epoch 5 , train time: 27.0 eval time: 3.8\n",
      "at epoch 6\n",
      "train info: logloss loss:19.656913101673126\n",
      "eval info: auc:0.7426, logloss:0.4946\n",
      "at epoch 6 , train time: 26.4 eval time: 3.5\n",
      "at epoch 7\n",
      "train info: logloss loss:8.77035242319107\n",
      "eval info: auc:0.7441, logloss:0.4934\n",
      "at epoch 7 , train time: 26.4 eval time: 3.6\n",
      "at epoch 8\n",
      "train info: logloss loss:3.9227327555418015\n",
      "eval info: auc:0.7453, logloss:0.4925\n",
      "at epoch 8 , train time: 26.4 eval time: 3.6\n",
      "at epoch 9\n",
      "train info: logloss loss:1.8598758652806282\n",
      "eval info: auc:0.7462, logloss:0.4917\n",
      "at epoch 9 , train time: 26.4 eval time: 3.5\n",
      "at epoch 10\n",
      "train info: logloss loss:1.024939227849245\n",
      "eval info: auc:0.747, logloss:0.491\n",
      "at epoch 10 , train time: 26.5 eval time: 3.6\n",
      "at epoch 11\n",
      "train info: logloss loss:0.7044877633452415\n",
      "eval info: auc:0.7476, logloss:0.4904\n",
      "at epoch 11 , train time: 26.4 eval time: 3.5\n",
      "at epoch 12\n",
      "train info: logloss loss:0.5878573171794415\n",
      "eval info: auc:0.7482, logloss:0.49\n",
      "at epoch 12 , train time: 26.4 eval time: 3.6\n",
      "at epoch 13\n",
      "train info: logloss loss:0.5472603626549244\n",
      "eval info: auc:0.7487, logloss:0.4897\n",
      "at epoch 13 , train time: 26.4 eval time: 3.5\n",
      "at epoch 14\n",
      "train info: logloss loss:0.5333702228963375\n",
      "eval info: auc:0.7493, logloss:0.4893\n",
      "at epoch 14 , train time: 26.8 eval time: 3.7\n",
      "at epoch 15\n",
      "train info: logloss loss:0.5283252857625484\n",
      "eval info: auc:0.7498, logloss:0.4889\n",
      "at epoch 15 , train time: 26.4 eval time: 3.5\n",
      "at epoch 16\n",
      "train info: logloss loss:0.5261340253055096\n",
      "eval info: auc:0.7505, logloss:0.4884\n",
      "at epoch 16 , train time: 26.4 eval time: 3.6\n",
      "at epoch 17\n",
      "train info: logloss loss:0.5249039828777313\n",
      "eval info: auc:0.7512, logloss:0.4879\n",
      "at epoch 17 , train time: 26.4 eval time: 3.5\n",
      "at epoch 18\n",
      "train info: logloss loss:0.5240353718400002\n",
      "eval info: auc:0.752, logloss:0.4874\n",
      "at epoch 18 , train time: 26.4 eval time: 3.6\n",
      "at epoch 19\n",
      "train info: logloss loss:0.5233883447945118\n",
      "eval info: auc:0.7528, logloss:0.4867\n",
      "at epoch 19 , train time: 26.4 eval time: 3.5\n",
      "at epoch 20\n",
      "train info: logloss loss:0.5228852778673172\n",
      "eval info: auc:0.7537, logloss:0.4861\n",
      "at epoch 20 , train time: 26.4 eval time: 3.6\n",
      "at epoch 21\n",
      "train info: logloss loss:0.5224970281124115\n",
      "eval info: auc:0.7546, logloss:0.4855\n",
      "at epoch 21 , train time: 26.4 eval time: 3.5\n",
      "at epoch 22\n",
      "train info: logloss loss:0.5221642814576626\n",
      "eval info: auc:0.7554, logloss:0.4849\n",
      "at epoch 22 , train time: 26.4 eval time: 3.6\n",
      "at epoch 23\n",
      "train info: logloss loss:0.5218848623335361\n",
      "eval info: auc:0.7561, logloss:0.4843\n",
      "at epoch 23 , train time: 26.4 eval time: 3.5\n",
      "at epoch 24\n",
      "train info: logloss loss:0.5216362103819847\n",
      "eval info: auc:0.7568, logloss:0.4838\n",
      "at epoch 24 , train time: 26.4 eval time: 3.6\n",
      "at epoch 25\n",
      "train info: logloss loss:0.5213631018996239\n",
      "eval info: auc:0.7574, logloss:0.4833\n",
      "at epoch 25 , train time: 26.4 eval time: 3.6\n",
      "at epoch 26\n",
      "train info: logloss loss:0.5210941806435585\n",
      "eval info: auc:0.7579, logloss:0.4829\n",
      "at epoch 26 , train time: 26.2 eval time: 3.6\n",
      "at epoch 27\n",
      "train info: logloss loss:0.5208026804029942\n",
      "eval info: auc:0.7583, logloss:0.4825\n",
      "at epoch 27 , train time: 26.2 eval time: 3.5\n",
      "at epoch 28\n",
      "train info: logloss loss:0.520493671298027\n",
      "eval info: auc:0.7587, logloss:0.4821\n",
      "at epoch 28 , train time: 26.2 eval time: 3.6\n",
      "at epoch 29\n",
      "train info: logloss loss:0.5201580859720707\n",
      "eval info: auc:0.759, logloss:0.4818\n",
      "at epoch 29 , train time: 26.2 eval time: 3.5\n",
      "at epoch 30\n",
      "train info: logloss loss:0.5197951458394527\n",
      "eval info: auc:0.7592, logloss:0.4816\n",
      "at epoch 30 , train time: 26.3 eval time: 3.6\n"
     ]
    },
    {
     "data": {
      "text/plain": "<recommenders.models.deeprec.models.xDeepFM.XDeepFMModel at 0x27c07351148>"
     },
     "execution_count": 16,
     "metadata": {},
     "output_type": "execute_result"
    }
   ],
   "source": [
    "model.fit(train_file, valid_file)"
   ],
   "metadata": {
    "collapsed": false,
    "pycharm": {
     "name": "#%%\n"
    }
   }
  },
  {
   "cell_type": "code",
   "execution_count": 17,
   "outputs": [
    {
     "name": "stdout",
     "output_type": "stream",
     "text": [
      "{'auc': 0.7356, 'logloss': 0.5017}\n"
     ]
    }
   ],
   "source": [
    "# 模型训练后表现\n",
    "res_real = model.run_eval(test_file)\n",
    "print(res_real)"
   ],
   "metadata": {
    "collapsed": false,
    "pycharm": {
     "name": "#%%\n"
    }
   }
  },
  {
   "cell_type": "code",
   "execution_count": 18,
   "outputs": [],
   "source": [
    "# tmpdir.cleanup()"
   ],
   "metadata": {
    "collapsed": false,
    "pycharm": {
     "name": "#%%\n"
    }
   }
  },
  {
   "cell_type": "code",
   "execution_count": null,
   "outputs": [],
   "source": [],
   "metadata": {
    "collapsed": false,
    "pycharm": {
     "name": "#%%\n"
    }
   }
  }
 ],
 "metadata": {
  "kernelspec": {
   "display_name": "Python 3",
   "language": "python",
   "name": "python3"
  },
  "language_info": {
   "codemirror_mode": {
    "name": "ipython",
    "version": 2
   },
   "file_extension": ".py",
   "mimetype": "text/x-python",
   "name": "python",
   "nbconvert_exporter": "python",
   "pygments_lexer": "ipython2",
   "version": "2.7.6"
  }
 },
 "nbformat": 4,
 "nbformat_minor": 0
}